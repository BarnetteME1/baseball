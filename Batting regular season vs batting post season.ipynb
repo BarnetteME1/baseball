{
 "cells": [
  {
   "cell_type": "code",
   "execution_count": 1,
   "metadata": {
    "collapsed": true
   },
   "outputs": [],
   "source": [
    "import pandas as pd\n",
    "import matplotlib.pyplot as plt\n",
    "%matplotlib inline"
   ]
  },
  {
   "cell_type": "code",
   "execution_count": 2,
   "metadata": {
    "collapsed": false
   },
   "outputs": [],
   "source": [
    "batting = pd.read_csv('~/baseball/baseball_csv_files/batting.csv')\n",
    "#postseason only starts at 1884, so we get rid of any batting from before.\n",
    "batting = batting[batting.year >= 1884]\n",
    "#dropping everything that isn't important to batting\n",
    "batting = batting.drop(labels=['h', 'year', 'player_id', 'stint', 'g', 'team_id', 'league_id', 'sb', 'cs'], axis=1)\n",
    "\n",
    "postseason_batting = pd.read_csv('~/baseball/baseball_csv_files/batting_postseason.csv')\n",
    "postseason_batting = postseason_batting.drop(labels=['h', 'year', 'round', 'player_id', 'team_id', 'league_id', 'g', \n",
    "                                                     'sb', 'cs'], axis=1)\n",
    "\n",
    "batting = pd.DataFrame(batting.mean())\n",
    "#renaming the column so that we can have the indexes appropriatly named\n",
    "batting = batting.rename(columns={0:'Season'})\n",
    "#transposing for concatnation\n",
    "batting = batting.T\n",
    "#changing all of the data to percentages of types of hit/at bat so it's easier to compare to the post season\n",
    "batting = batting.astype('float').div(batting['ab'].astype('float'),axis='index')\n",
    "batting = batting.drop(labels=['ab'], axis=1)\n",
    "batting = batting.rename(columns={'r':'Runs', 'h':'Hits', '2b': 'Double', '3b': 'Rriple', 'hr': 'Homerun', \n",
    "                                  'rbi': 'Runs_batted_in', 'bb': 'Base_on_balls', 'so':'Strikeout', \n",
    "                                  'hbp': 'Hit_by_pitch', 'sh': 'Sacrifice_hit', 'sf':'Sacrifice_fly', \n",
    "                                  'g_idp': 'Grounded_into_double_play', 'ibb': 'Intentional_walks'})\n",
    "\n",
    "#here we do the same thing, just too the postseason data\n",
    "postseason_batting = pd.DataFrame(postseason_batting.mean())\n",
    "postseason_batting = postseason_batting.rename(columns={0:'Post_Season'})\n",
    "postseason_batting = postseason_batting.T\n",
    "postseason_batting = postseason_batting.astype('float').div(postseason_batting['ab'].astype('float'),axis='index')\n",
    "postseason_batting = postseason_batting.drop(labels=['ab'], axis=1)\n",
    "postseason_batting = postseason_batting.rename(columns={'r':'Runs', 'h':'Hits', '2b': 'Double', '3b': 'Rriple', \n",
    "                                                        'hr': 'Homerun', 'rbi': 'Runs_batted_in', \n",
    "                                                        'bb': 'Base_on_balls', 'so':'Strikeout', \n",
    "                                                        'hbp': 'Hit_by_pitch', 'sh': 'Sacrifice_hit', \n",
    "                                                        'sf':'Sacrifice_fly', 'g_idp': 'Grounded_into_double_play', \n",
    "                                                        'ibb': 'Intentional_walks'})\n",
    "\n",
    "#concatnating the season and postseason for graphing\n",
    "season_vs_postseason = pd.concat([batting, postseason_batting])\n",
    "season_vs_postseason = season_vs_postseason.T"
   ]
  },
  {
   "cell_type": "code",
   "execution_count": 3,
   "metadata": {
    "collapsed": false
   },
   "outputs": [
    {
     "data": {
      "text/plain": [
       "<matplotlib.axes._subplots.AxesSubplot at 0x112c13908>"
      ]
     },
     "execution_count": 3,
     "metadata": {},
     "output_type": "execute_result"
    },
    {
     "data": {
      "image/png": "[encoded data removed]",
      "text/plain": [
       "<matplotlib.figure.Figure at 0x112c13ba8>"
      ]
     },
     "metadata": {},
     "output_type": "display_data"
    }
   ],
   "source": [
    "season_vs_postseason.plot(kind='bar', figsize=(20,10), rot=45)"
   ]
  },
  {
   "cell_type": "code",
   "execution_count": 4,
   "metadata": {
    "collapsed": false
   },
   "outputs": [
    {
     "data": {
      "text/html": [
       "<div>\n",
       "<table border=\"1\" class=\"dataframe\">\n",
       "  <thead>\n",
       "    <tr style=\"text-align: right;\">\n",
       "      <th></th>\n",
       "      <th>Season</th>\n",
       "      <th>Post_Season</th>\n",
       "    </tr>\n",
       "  </thead>\n",
       "  <tbody>\n",
       "    <tr>\n",
       "      <th>Runs</th>\n",
       "      <td>0.132003</td>\n",
       "      <td>0.119236</td>\n",
       "    </tr>\n",
       "    <tr>\n",
       "      <th>double</th>\n",
       "      <td>0.044397</td>\n",
       "      <td>0.042438</td>\n",
       "    </tr>\n",
       "    <tr>\n",
       "      <th>triple</th>\n",
       "      <td>0.009068</td>\n",
       "      <td>0.006280</td>\n",
       "    </tr>\n",
       "    <tr>\n",
       "      <th>Homerun</th>\n",
       "      <td>0.020032</td>\n",
       "      <td>0.024702</td>\n",
       "    </tr>\n",
       "    <tr>\n",
       "      <th>Runs_batted_in</th>\n",
       "      <td>0.120114</td>\n",
       "      <td>0.110605</td>\n",
       "    </tr>\n",
       "    <tr>\n",
       "      <th>Base_on_balls</th>\n",
       "      <td>0.093495</td>\n",
       "      <td>0.094185</td>\n",
       "    </tr>\n",
       "    <tr>\n",
       "      <th>Strikeout</th>\n",
       "      <td>0.146054</td>\n",
       "      <td>0.188989</td>\n",
       "    </tr>\n",
       "    <tr>\n",
       "      <th>Intentional_walks</th>\n",
       "      <td>0.008098</td>\n",
       "      <td>0.010917</td>\n",
       "    </tr>\n",
       "    <tr>\n",
       "      <th>Hit_by_pitch</th>\n",
       "      <td>0.007432</td>\n",
       "      <td>0.008213</td>\n",
       "    </tr>\n",
       "    <tr>\n",
       "      <th>Sacrifice_hit</th>\n",
       "      <td>0.016406</td>\n",
       "      <td>0.014347</td>\n",
       "    </tr>\n",
       "    <tr>\n",
       "      <th>Sacrifice_fly</th>\n",
       "      <td>0.007677</td>\n",
       "      <td>0.006629</td>\n",
       "    </tr>\n",
       "    <tr>\n",
       "      <th>Grounded_into_double_play</th>\n",
       "      <td>0.021426</td>\n",
       "      <td>0.019817</td>\n",
       "    </tr>\n",
       "  </tbody>\n",
       "</table>\n",
       "</div>"
      ],
      "text/plain": [
       "                             Season  Post_Season\n",
       "Runs                       0.132003     0.119236\n",
       "double                     0.044397     0.042438\n",
       "triple                     0.009068     0.006280\n",
       "Homerun                    0.020032     0.024702\n",
       "Runs_batted_in             0.120114     0.110605\n",
       "Base_on_balls              0.093495     0.094185\n",
       "Strikeout                  0.146054     0.188989\n",
       "Intentional_walks          0.008098     0.010917\n",
       "Hit_by_pitch               0.007432     0.008213\n",
       "Sacrifice_hit              0.016406     0.014347\n",
       "Sacrifice_fly              0.007677     0.006629\n",
       "Grounded_into_double_play  0.021426     0.019817"
      ]
     },
     "execution_count": 4,
     "metadata": {},
     "output_type": "execute_result"
    }
   ],
   "source": [
    "#And here we can see the actual percentages\n",
    "season_vs_postseason"
   ]
  }
 ],
 "metadata": {
  "kernelspec": {
   "display_name": "Python 3",
   "language": "python",
   "name": "python3"
  },
  "language_info": {
   "codemirror_mode": {
    "name": "ipython",
    "version": 3
   },
   "file_extension": ".py",
   "mimetype": "text/x-python",
   "name": "python",
   "nbconvert_exporter": "python",
   "pygments_lexer": "ipython3",
   "version": "3.5.0"
  }
 },
 "nbformat": 4,
 "nbformat_minor": 0
}
