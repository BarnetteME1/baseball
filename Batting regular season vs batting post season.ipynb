{
 "cells": [
  {
   "cell_type": "code",
   "execution_count": 1,
   "metadata": {
    "collapsed": true
   },
   "outputs": [],
   "source": [
    "import pandas as pd\n",
    "import matplotlib.pyplot as plt\n",
    "%matplotlib inline"
   ]
  },
  {
   "cell_type": "code",
   "execution_count": 19,
   "metadata": {
    "collapsed": false
   },
   "outputs": [],
   "source": [
    "batting = pd.read_csv('~/baseball/baseball_csv_files/batting.csv')\n",
    "batting = batting[batting.year >= 1884]\n",
    "batting = batting.drop(labels=['ab', 'year', 'player_id', 'stint', 'g', 'team_id', 'league_id'], axis=1)\n",
    "\n",
    "postseason_batting = pd.read_csv('~/baseball/baseball_csv_files/batting_postseason.csv')\n",
    "postseason_batting = postseason_batting.drop(labels=['ab', 'year', 'round', 'player_id', 'team_id', 'league_id', 'g'], axis=1)\n",
    "\n",
    "batting = pd.DataFrame(batting.std())\n",
    "batting = batting.rename(columns={0:'Season'})\n",
    "batting = batting.T\n",
    "\n",
    "postseason_batting = pd.DataFrame(postseason_batting.std())\n",
    "postseason_batting = postseason_batting.rename(columns={0:'Post_Season'})\n",
    "postseason_batting = postseason_batting.T\n",
    "\n",
    "season_vs_postseason = pd.concat([batting, postseason_batting])\n",
    "season_vs_postseason = season_vs_postseason.T"
   ]
  },
  {
   "cell_type": "code",
   "execution_count": 20,
   "metadata": {
    "collapsed": false
   },
   "outputs": [
    {
     "data": {
      "text/plain": [
       "<matplotlib.axes._subplots.AxesSubplot at 0x1061264e0>"
      ]
     },
     "execution_count": 20,
     "metadata": {},
     "output_type": "execute_result"
    },
    {
     "data": {
      "image/png": "[encoded data removed]",
      "text/plain": [
       "<matplotlib.figure.Figure at 0x106126908>"
      ]
     },
     "metadata": {},
     "output_type": "display_data"
    }
   ],
   "source": [
    "season_vs_postseason.plot(kind='bar', figsize=(20, 10))"
   ]
  },
  {
   "cell_type": "code",
   "execution_count": 5,
   "metadata": {
    "collapsed": false
   },
   "outputs": [
    {
     "data": {
      "text/html": [
       "<div>\n",
       "<table border=\"1\" class=\"dataframe\">\n",
       "  <thead>\n",
       "    <tr style=\"text-align: right;\">\n",
       "      <th></th>\n",
       "      <th>Season</th>\n",
       "      <th>Post_Season</th>\n",
       "    </tr>\n",
       "  </thead>\n",
       "  <tbody>\n",
       "    <tr>\n",
       "      <th>r</th>\n",
       "      <td>28.671365</td>\n",
       "      <td>1.591499</td>\n",
       "    </tr>\n",
       "    <tr>\n",
       "      <th>h</th>\n",
       "      <td>53.310941</td>\n",
       "      <td>2.704839</td>\n",
       "    </tr>\n",
       "    <tr>\n",
       "      <th>double</th>\n",
       "      <td>9.801563</td>\n",
       "      <td>0.739625</td>\n",
       "    </tr>\n",
       "    <tr>\n",
       "      <th>triple</th>\n",
       "      <td>2.710547</td>\n",
       "      <td>0.251774</td>\n",
       "    </tr>\n",
       "    <tr>\n",
       "      <th>hr</th>\n",
       "      <td>6.409662</td>\n",
       "      <td>0.562878</td>\n",
       "    </tr>\n",
       "    <tr>\n",
       "      <th>rbi</th>\n",
       "      <td>26.756514</td>\n",
       "      <td>1.647508</td>\n",
       "    </tr>\n",
       "    <tr>\n",
       "      <th>sb</th>\n",
       "      <td>7.922994</td>\n",
       "      <td>0.608723</td>\n",
       "    </tr>\n",
       "    <tr>\n",
       "      <th>cs</th>\n",
       "      <td>2.838196</td>\n",
       "      <td>0.313297</td>\n",
       "    </tr>\n",
       "    <tr>\n",
       "      <th>bb</th>\n",
       "      <td>21.092775</td>\n",
       "      <td>1.358261</td>\n",
       "    </tr>\n",
       "    <tr>\n",
       "      <th>so</th>\n",
       "      <td>28.432978</td>\n",
       "      <td>2.000072</td>\n",
       "    </tr>\n",
       "    <tr>\n",
       "      <th>ibb</th>\n",
       "      <td>2.894918</td>\n",
       "      <td>0.378132</td>\n",
       "    </tr>\n",
       "    <tr>\n",
       "      <th>hbp</th>\n",
       "      <td>2.320660</td>\n",
       "      <td>0.288822</td>\n",
       "    </tr>\n",
       "    <tr>\n",
       "      <th>sh</th>\n",
       "      <td>4.347818</td>\n",
       "      <td>0.401163</td>\n",
       "    </tr>\n",
       "    <tr>\n",
       "      <th>sf</th>\n",
       "      <td>2.023981</td>\n",
       "      <td>0.253721</td>\n",
       "    </tr>\n",
       "    <tr>\n",
       "      <th>g_idp</th>\n",
       "      <td>4.835881</td>\n",
       "      <td>0.450651</td>\n",
       "    </tr>\n",
       "  </tbody>\n",
       "</table>\n",
       "</div>"
      ],
      "text/plain": [
       "           Season  Post_Season\n",
       "r       28.671365     1.591499\n",
       "h       53.310941     2.704839\n",
       "double   9.801563     0.739625\n",
       "triple   2.710547     0.251774\n",
       "hr       6.409662     0.562878\n",
       "rbi     26.756514     1.647508\n",
       "sb       7.922994     0.608723\n",
       "cs       2.838196     0.313297\n",
       "bb      21.092775     1.358261\n",
       "so      28.432978     2.000072\n",
       "ibb      2.894918     0.378132\n",
       "hbp      2.320660     0.288822\n",
       "sh       4.347818     0.401163\n",
       "sf       2.023981     0.253721\n",
       "g_idp    4.835881     0.450651"
      ]
     },
     "execution_count": 5,
     "metadata": {},
     "output_type": "execute_result"
    }
   ],
   "source": [
    "season_vs_postseason"
   ]
  }
 ],
 "metadata": {
  "kernelspec": {
   "display_name": "Python 3",
   "language": "python",
   "name": "python3"
  },
  "language_info": {
   "codemirror_mode": {
    "name": "ipython",
    "version": 3
   },
   "file_extension": ".py",
   "mimetype": "text/x-python",
   "name": "python",
   "nbconvert_exporter": "python",
   "pygments_lexer": "ipython3",
   "version": "3.5.0"
  }
 },
 "nbformat": 4,
 "nbformat_minor": 0
}
