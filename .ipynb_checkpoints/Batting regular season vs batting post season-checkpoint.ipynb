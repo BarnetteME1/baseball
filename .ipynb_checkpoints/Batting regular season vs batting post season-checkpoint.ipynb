{
 "cells": [
  {
   "cell_type": "code",
   "execution_count": 1,
   "metadata": {
    "collapsed": true
   },
   "outputs": [],
   "source": [
    "import pandas as pd\n",
    "import matplotlib.pyplot as plt\n",
    "%matplotlib inline"
   ]
  },
  {
   "cell_type": "code",
   "execution_count": 2,
   "metadata": {
    "collapsed": false
   },
   "outputs": [],
   "source": [
    "batting = pd.read_csv('~/baseball/baseball_csv_files/batting.csv')\n",
    "batting = batting[batting.year >= 1884]\n",
    "batting = batting.drop(labels=['ab', 'year', 'player_id', 'stint', 'g', 'team_id', 'league_id'], axis=1)\n",
    "\n",
    "postseason_batting = pd.read_csv('~/baseball/baseball_csv_files/batting_postseason.csv')\n",
    "postseason_batting = postseason_batting.drop(labels=['ab', 'year', 'round', 'player_id', 'team_id', 'league_id', 'g'], axis=1)\n",
    "\n",
    "batting = pd.DataFrame(batting.mean())\n",
    "batting = batting.rename(columns={0:'Season'})\n",
    "batting = batting.T\n",
    "\n",
    "postseason_batting = pd.DataFrame(postseason_batting.mean())\n",
    "postseason_batting = postseason_batting.rename(columns={0:'Post_Season'})\n",
    "postseason_batting = postseason_batting.T\n",
    "\n",
    "season_vs_postseason = pd.concat([batting, postseason_batting])\n",
    "season_vs_postseason = season_vs_postseason.T"
   ]
  },
  {
   "cell_type": "code",
   "execution_count": 3,
   "metadata": {
    "collapsed": false
   },
   "outputs": [
    {
     "data": {
      "text/plain": [
       "<matplotlib.axes._subplots.AxesSubplot at 0x10a759390>"
      ]
     },
     "execution_count": 3,
     "metadata": {},
     "output_type": "execute_result"
    },
    {
     "data": {
      "image/png": "[encoded data removed]",
      "text/plain": [
       "<matplotlib.figure.Figure at 0x10a759550>"
      ]
     },
     "metadata": {},
     "output_type": "display_data"
    }
   ],
   "source": [
    "season_vs_postseason.plot(kind='bar', figsize=(20, 10))"
   ]
  },
  {
   "cell_type": "code",
   "execution_count": 4,
   "metadata": {
    "collapsed": false
   },
   "outputs": [
    {
     "data": {
      "text/html": [
       "<div>\n",
       "<table border=\"1\" class=\"dataframe\">\n",
       "  <thead>\n",
       "    <tr style=\"text-align: right;\">\n",
       "      <th></th>\n",
       "      <th>Season</th>\n",
       "      <th>Post_Season</th>\n",
       "    </tr>\n",
       "  </thead>\n",
       "  <tbody>\n",
       "    <tr>\n",
       "      <th>r</th>\n",
       "      <td>19.776696</td>\n",
       "      <td>1.054149</td>\n",
       "    </tr>\n",
       "    <tr>\n",
       "      <th>h</th>\n",
       "      <td>39.223834</td>\n",
       "      <td>2.150984</td>\n",
       "    </tr>\n",
       "    <tr>\n",
       "      <th>double</th>\n",
       "      <td>6.651496</td>\n",
       "      <td>0.375192</td>\n",
       "    </tr>\n",
       "    <tr>\n",
       "      <th>triple</th>\n",
       "      <td>1.358619</td>\n",
       "      <td>0.055518</td>\n",
       "    </tr>\n",
       "    <tr>\n",
       "      <th>hr</th>\n",
       "      <td>3.001221</td>\n",
       "      <td>0.218392</td>\n",
       "    </tr>\n",
       "    <tr>\n",
       "      <th>rbi</th>\n",
       "      <td>17.995441</td>\n",
       "      <td>0.977844</td>\n",
       "    </tr>\n",
       "    <tr>\n",
       "      <th>sb</th>\n",
       "      <td>3.173923</td>\n",
       "      <td>0.169718</td>\n",
       "    </tr>\n",
       "    <tr>\n",
       "      <th>cs</th>\n",
       "      <td>1.327184</td>\n",
       "      <td>0.079380</td>\n",
       "    </tr>\n",
       "    <tr>\n",
       "      <th>bb</th>\n",
       "      <td>14.007472</td>\n",
       "      <td>0.832678</td>\n",
       "    </tr>\n",
       "    <tr>\n",
       "      <th>so</th>\n",
       "      <td>21.881817</td>\n",
       "      <td>1.670830</td>\n",
       "    </tr>\n",
       "    <tr>\n",
       "      <th>ibb</th>\n",
       "      <td>1.213275</td>\n",
       "      <td>0.096517</td>\n",
       "    </tr>\n",
       "    <tr>\n",
       "      <th>hbp</th>\n",
       "      <td>1.113419</td>\n",
       "      <td>0.072611</td>\n",
       "    </tr>\n",
       "    <tr>\n",
       "      <th>sh</th>\n",
       "      <td>2.457954</td>\n",
       "      <td>0.126843</td>\n",
       "    </tr>\n",
       "    <tr>\n",
       "      <th>sf</th>\n",
       "      <td>1.150122</td>\n",
       "      <td>0.058609</td>\n",
       "    </tr>\n",
       "    <tr>\n",
       "      <th>g_idp</th>\n",
       "      <td>3.210032</td>\n",
       "      <td>0.175203</td>\n",
       "    </tr>\n",
       "  </tbody>\n",
       "</table>\n",
       "</div>"
      ],
      "text/plain": [
       "           Season  Post_Season\n",
       "r       19.776696     1.054149\n",
       "h       39.223834     2.150984\n",
       "double   6.651496     0.375192\n",
       "triple   1.358619     0.055518\n",
       "hr       3.001221     0.218392\n",
       "rbi     17.995441     0.977844\n",
       "sb       3.173923     0.169718\n",
       "cs       1.327184     0.079380\n",
       "bb      14.007472     0.832678\n",
       "so      21.881817     1.670830\n",
       "ibb      1.213275     0.096517\n",
       "hbp      1.113419     0.072611\n",
       "sh       2.457954     0.126843\n",
       "sf       1.150122     0.058609\n",
       "g_idp    3.210032     0.175203"
      ]
     },
     "execution_count": 4,
     "metadata": {},
     "output_type": "execute_result"
    }
   ],
   "source": [
    "season_vs_postseason"
   ]
  }
 ],
 "metadata": {
  "kernelspec": {
   "display_name": "Python 3",
   "language": "python",
   "name": "python3"
  },
  "language_info": {
   "codemirror_mode": {
    "name": "ipython",
    "version": 3
   },
   "file_extension": ".py",
   "mimetype": "text/x-python",
   "name": "python",
   "nbconvert_exporter": "python",
   "pygments_lexer": "ipython3",
   "version": "3.5.0"
  }
 },
 "nbformat": 4,
 "nbformat_minor": 0
}
